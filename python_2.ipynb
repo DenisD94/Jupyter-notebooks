{
 "cells": [
  {
   "cell_type": "markdown",
   "metadata": {},
   "source": [
    "# Variabili, namespace e regole di scopo"
   ]
  },
  {
   "cell_type": "markdown",
   "metadata": {},
   "source": [
    "## Variabili e namespace"
   ]
  },
  {
   "cell_type": "markdown",
   "metadata": {},
   "source": [
    "#### Una variabile in Python è il nome per un oggetto (funzionalmente possiamo dire che è una associazione fra nomi e oggetti). Le variabili Python sono quindi diverse dalle variabili C o Java.\n",
    "\n",
    "1. Non hanno tipo ma acquisiscono il tipo dell'oggetto denotato\n",
    "2. Un nome è dichiarato come variabile nel momento in cui viene usato (a sinistra) in un assegnamento\n",
    "3. In ogni particolare punto del programma un nome può corrispondere a una variabile:\n",
    "    1. locale\n",
    "    2. non locale\n",
    "    3. globale\n",
    "    4. predefinita (***built-in***)\n",
    "    5. ... e naturalmente può anche non corrispondere ad alcuna variabile definita\n",
    "4. In ogni particolare punto del programma i nomi locali, globali e predefiniti formano altrettante \"collezioni\" chiamate ***namespace***\n",
    "5. In Python i namespace sono essi stessi oggetti manipolabili (sono ***dizionari***) ...\n",
    "6. ... e come tali possono essere consultati"
   ]
  },
  {
   "cell_type": "code",
   "execution_count": null,
   "metadata": {
    "scrolled": true
   },
   "outputs": [],
   "source": [
    "print(dir()) # Restituisce i nomi (chiavi) nel namespace corrente"
   ]
  },
  {
   "cell_type": "code",
   "execution_count": null,
   "metadata": {},
   "outputs": [],
   "source": [
    "print(locals()['__name__'])"
   ]
  },
  {
   "cell_type": "code",
   "execution_count": null,
   "metadata": {},
   "outputs": [],
   "source": [
    "__name__"
   ]
  },
  {
   "cell_type": "code",
   "execution_count": null,
   "metadata": {},
   "outputs": [],
   "source": [
    "# A livello di prompt dell'interprete il namespace corrente è quello globale\n",
    "if sorted(dir())==sorted(globals().keys()):\n",
    "    print(\"Il namespace corrente è quello globale\")"
   ]
  },
  {
   "cell_type": "code",
   "execution_count": null,
   "metadata": {},
   "outputs": [],
   "source": [
    "def unaltrafunzione(x):\n",
    "    x = 10\n",
    "    print(\"Il valore locale di x è {}\".format(locals()['x']))\n",
    "    print(\"Il valore globale di x è {}\".format(globals()['x']))\n",
    "x = 1\n",
    "unaltrafunzione(x)"
   ]
  },
  {
   "cell_type": "code",
   "execution_count": null,
   "metadata": {},
   "outputs": [],
   "source": [
    "# All'interno di una funzione il namespace corrente è quello locale alla funzione stessa\n",
    "def unafunzione(x):\n",
    "    a = 5\n",
    "    b = -3\n",
    "    x = a*x+b\n",
    "    if sorted(dir())==sorted(locals().keys()):\n",
    "        print(\"Il namespace corrente è quello locale alla funzione\")\n",
    "    return x\n",
    "\n",
    "x = 1\n",
    "print(unafunzione(x))\n",
    "print(x)"
   ]
  },
  {
   "cell_type": "markdown",
   "metadata": {},
   "source": [
    "## Regole di ***scopo*** (***scope rules***)\n",
    "\n",
    "1. Lo ***scope*** di una (dichiarazione di) variabile sono i punti del programma in cui tale variabile può essere acceduta\n",
    "2. L'interprete usa la ***regola LEGB*** per determinare qual è la variabile (e dunque il valore) cui si riferisce un dato nome:\n",
    "    1. Prima il namespace ***locale*** (***L***)\n",
    "    2. Poi i namespace locali alle ***enclosing*** function (***E***)\n",
    "    3. Poi il namespace ***globale*** (***G***)\n",
    "    4. Infine il namespace delle funzioni ***built-in*** (***B***)"
   ]
  },
  {
   "cell_type": "code",
   "execution_count": 3,
   "metadata": {},
   "outputs": [
    {
     "name": "stdout",
     "output_type": "stream",
     "text": [
      "2\n",
      "5\n",
      "1 7 2\n"
     ]
    }
   ],
   "source": [
    "# Un po' di prove....\n",
    "def esterna(x):\n",
    "    a = 5          # Introduce nome locale\n",
    "    b = x          # Introduce nome locale\n",
    "    def interna():\n",
    "        global a\n",
    "        nonlocal b\n",
    "        x = a+b    # a(globale)+b(nonlocale)\n",
    "        a = 2      # Altera il nome globale a\n",
    "        b = 5      # Altera il nome non locale b\n",
    "        return x\n",
    "    a = interna()  # Altera il nome locale a\n",
    "    print(a)\n",
    "    print(b)\n",
    "    return a+b\n",
    "a = 1\n",
    "print(a,esterna(a),a)"
   ]
  },
  {
   "cell_type": "markdown",
   "metadata": {},
   "source": [
    "## Come agiscono le importazioni di moduli sui namespace?"
   ]
  },
  {
   "cell_type": "markdown",
   "metadata": {},
   "source": [
    "### La sintassi: from ***modulo*** import ***nome***\n",
    "### include ***nome*** nel namespace corrente"
   ]
  },
  {
   "cell_type": "code",
   "execution_count": null,
   "metadata": {},
   "outputs": [],
   "source": [
    "print(globals().get('log','non definita')) # Pythonic\n",
    "from math import log\n",
    "print(globals().get('log','non definita'))"
   ]
  },
  {
   "cell_type": "markdown",
   "metadata": {},
   "source": [
    "### Ogni modulo ha però il proprio namespace"
   ]
  },
  {
   "cell_type": "code",
   "execution_count": null,
   "metadata": {},
   "outputs": [],
   "source": [
    "print(globals().get('log2','non definita'))\n",
    "import math\n",
    "print(globals().get('log2','non definita'))\n",
    "if 'log2' in dir(math):\n",
    "    print(math.log2)\n",
    "else:\n",
    "    print('non definita')"
   ]
  },
  {
   "cell_type": "markdown",
   "metadata": {},
   "source": [
    "### Quindi attenzione:"
   ]
  },
  {
   "cell_type": "code",
   "execution_count": null,
   "metadata": {},
   "outputs": [],
   "source": [
    "import math\n",
    "def fail(x):\n",
    "    return log10(x)\n",
    "print(fail(5))"
   ]
  },
  {
   "cell_type": "code",
   "execution_count": null,
   "metadata": {},
   "outputs": [],
   "source": [
    "import math\n",
    "def success(x):\n",
    "    return math.log10(x)\n",
    "print(success(5))"
   ]
  },
  {
   "cell_type": "markdown",
   "metadata": {},
   "source": [
    "## Oggetti, attributi e proprietà"
   ]
  },
  {
   "cell_type": "markdown",
   "metadata": {},
   "source": [
    "### Gli oggetti Python (***tutti*** gli oggetti Python) possono avere ***attributi***. Gli attributi, come le variabili, sono a loro volta associazioni fra nomi e oggetti.\n",
    "\n",
    "### Gli attributi (insieme ai ***metodi***) caratterizzano un oggetto\n",
    "\n",
    "### La funzione dir() si può applicare anche ad un oggetto e restituisce una lista che elenca, sotto forma di stringhe, tutti i suoi attributi"
   ]
  },
  {
   "cell_type": "code",
   "execution_count": 4,
   "metadata": {},
   "outputs": [
    {
     "name": "stdout",
     "output_type": "stream",
     "text": [
      "70\n",
      "__ge__\n",
      "['__abs__', '__add__', '__and__']\n",
      "['from_bytes', 'imag', 'numerator', 'real', 'to_bytes']\n"
     ]
    },
    {
     "data": {
      "text/plain": [
       "True"
      ]
     },
     "execution_count": 4,
     "metadata": {},
     "output_type": "execute_result"
    }
   ],
   "source": [
    "# Un \"semplice\" numero intero ha moltissimi attributi\n",
    "print(len(dir(3)))\n",
    "# Ne elenchiamo il sedicesimo ...\n",
    "print(dir(3)[15])\n",
    "# ... i primi 3 ...\n",
    "print(dir(3)[:3])\n",
    "# ... e gli ultimi 5\n",
    "print(dir(3)[-5:])\n",
    "# Sono attributi eredidati\n",
    "dir(3)==dir(int)"
   ]
  },
  {
   "cell_type": "markdown",
   "metadata": {},
   "source": [
    "### ***getattr*** e ***setattr***"
   ]
  },
  {
   "cell_type": "code",
   "execution_count": null,
   "metadata": {},
   "outputs": [],
   "source": [
    "L=[1,2,3]\n",
    "print(dir(L)[:7])"
   ]
  },
  {
   "cell_type": "code",
   "execution_count": null,
   "metadata": {},
   "outputs": [],
   "source": [
    "### Due \"modi\" diversi per accedere agli attributi\n",
    "print(L.__add__)\n",
    "print(getattr(L,'__add__'))"
   ]
  },
  {
   "cell_type": "code",
   "execution_count": null,
   "metadata": {},
   "outputs": [],
   "source": [
    "L.__add__([4,5])"
   ]
  },
  {
   "cell_type": "code",
   "execution_count": null,
   "metadata": {},
   "outputs": [],
   "source": [
    "getattr(L,'__add__')([6,7,8])"
   ]
  },
  {
   "cell_type": "code",
   "execution_count": null,
   "metadata": {},
   "outputs": [],
   "source": [
    "L"
   ]
  },
  {
   "cell_type": "markdown",
   "metadata": {},
   "source": [
    "### Gli attributi degli oggetti dei tipi predefiniti in Python sono read-only e non si possono aggiungere attributi nuovi"
   ]
  },
  {
   "cell_type": "code",
   "execution_count": null,
   "metadata": {},
   "outputs": [],
   "source": [
    "L=[1,2,3]\n",
    "def myadd(L,M):\n",
    "    T = M[:]\n",
    "    T.reverse()\n",
    "    for t in T:\n",
    "        L.append(t)        # Voglio che sia modificata L\n",
    "    return L\n",
    "setattr(L,'__add__',myadd)"
   ]
  },
  {
   "cell_type": "markdown",
   "metadata": {},
   "source": [
    "### Si possono però (ovviamente...) modificare/aggiungere attributi a tipi definiti da utente come pure a classi derivate"
   ]
  },
  {
   "cell_type": "code",
   "execution_count": null,
   "metadata": {},
   "outputs": [],
   "source": [
    "# Pythonic\n",
    "class MyList(list):\n",
    "    pass\n",
    "\n",
    "setattr(MyList,'__add__',myadd)"
   ]
  },
  {
   "cell_type": "code",
   "execution_count": null,
   "metadata": {},
   "outputs": [],
   "source": [
    "L = MyList([1,2])\n",
    "M = [4,3]\n",
    "L.__add__(M)"
   ]
  },
  {
   "cell_type": "code",
   "execution_count": null,
   "metadata": {},
   "outputs": [],
   "source": [
    "L+M               /* Zucchero sintattico; viene chiamato il metodo __add__ di L"
   ]
  },
  {
   "cell_type": "markdown",
   "metadata": {},
   "source": [
    "## Python consente di definire il significato degli operatori per tipi definiti da utente"
   ]
  },
  {
   "cell_type": "markdown",
   "metadata": {},
   "source": [
    "# Un primo progetto completo: MST su grafo pesato"
   ]
  },
  {
   "cell_type": "code",
   "execution_count": null,
   "metadata": {},
   "outputs": [],
   "source": [
    "class edge:\n",
    "    '''Classe che rappresenta archi non orientati pesati, v1.0 (non pythonica...).\n",
    "       L'arco vero e proprio, cioè la coppia (u,v) di vertici,\n",
    "       e il suo peso sono messi 'sullo stesso piano', sono cioè proprietà\n",
    "       dell'oggetto arco.\n",
    "       '''\n",
    "    def __init__(self,e,w):\n",
    "        '''Il parametro e è una coppia (tupla Python): e=(u,v)\n",
    "           mentre w è il peso.'''\n",
    "        self.e = e\n",
    "        self.w = w\n",
    "        \n",
    "    def lt(self,other):\n",
    "        '''Metodo che confronta l'arco self con other, sulla base\n",
    "           prima del peso e poi dell'ordine lessicografico'''\n",
    "        ws = self.w\n",
    "        wo = other.w\n",
    "        ms = min(self.e)\n",
    "        mo = min(other.e)\n",
    "        if ws<wo or (ws==wo and ms<mo) or \\\n",
    "            (ws==wo and ms==mo and max(self.e)<max(other.e)):\n",
    "            return True\n",
    "        else:\n",
    "            return False"
   ]
  },
  {
   "cell_type": "code",
   "execution_count": null,
   "metadata": {},
   "outputs": [],
   "source": [
    "# Esempio\n",
    "e1 = edge((2,1),3)\n",
    "e2 = edge((1,5),3)\n",
    "e1.lt(e2)"
   ]
  },
  {
   "cell_type": "code",
   "execution_count": null,
   "metadata": {},
   "outputs": [],
   "source": [
    "# Usiamo il semplice insertion sort\n",
    "def edgesort(E):\n",
    "    '''Usa insertion sort per ordinare una lista di archi'''\n",
    "    n = len(E)\n",
    "    for i in range(1,n):\n",
    "        e = E[i]\n",
    "        j = i-1\n",
    "        while j>=0 and e.lt(E[j]):\n",
    "            E[j+1] = E[j]\n",
    "            j = j-1\n",
    "        E[j+1] = e"
   ]
  },
  {
   "cell_type": "code",
   "execution_count": null,
   "metadata": {},
   "outputs": [],
   "source": [
    "E = [edge((2,1),3),edge((1,5),3),edge((2,3),1),edge((2,4),1)]"
   ]
  },
  {
   "cell_type": "code",
   "execution_count": null,
   "metadata": {},
   "outputs": [],
   "source": [
    "# Come facciamo a \"vedere\" se l'algoritmo funziona correttamente?\n",
    "print(E)\n",
    "# come pure\n",
    "for e in E:\n",
    "    print(e)"
   ]
  },
  {
   "cell_type": "markdown",
   "metadata": {},
   "source": [
    "## Ancora un ***magic method*** e ancora zucchero sintattico"
   ]
  },
  {
   "cell_type": "code",
   "execution_count": null,
   "metadata": {},
   "outputs": [],
   "source": [
    "if 'edge' in dir():\n",
    "    del(edge)\n",
    "    \n",
    "class edge:\n",
    "    '''Classe che rappresenta archi non orientati pesati, v1.0 (non pythonica...).\n",
    "       L'arco vero e proprio, cioè la coppia (u,v) di vertici,\n",
    "       e il suo peso sono messi 'sullo stesso piano', sono cioè proprietà\n",
    "       dell'oggetto arco.\n",
    "       '''\n",
    "    def __init__(self,e,w):\n",
    "        '''Il parametro e ''è una coppia (tupla Python): e=(u,v)\n",
    "           mentre w è il peso.'''\n",
    "        self.e = e\n",
    "        self.w = w\n",
    "        \n",
    "    def __str__(self):\n",
    "        '''Definisce la rappresentazione di oggetti edge. Usata da print() e str()'''\n",
    "        s = str(self.e)+\": \"+str(self.w)\n",
    "        return s\n",
    "        \n",
    "    def lt(self,other):\n",
    "        '''Metodo che confronta l'arco self con other, sulla base\n",
    "           prima del peso e poi dell'ordine lessicografico'''\n",
    "        ws = self.w\n",
    "        wo = other.w\n",
    "        ms = min(self.e)\n",
    "        mo = min(other.e)\n",
    "        if ws<wo or (ws==wo and ms<mo) or \\\n",
    "            (ws==wo and ms==mo and max(self.e)<max(other.e)):\n",
    "            return True\n",
    "        else:\n",
    "            return False"
   ]
  },
  {
   "cell_type": "code",
   "execution_count": null,
   "metadata": {},
   "outputs": [],
   "source": [
    "# Abbiamo ora una rappresentazione \"comprensibile\" degli edge\n",
    "e=edge((1,2),9)\n",
    "print(e)"
   ]
  },
  {
   "cell_type": "code",
   "execution_count": null,
   "metadata": {},
   "outputs": [],
   "source": [
    "# Attenzione però:\n",
    "E = [edge((2,1),3),edge((1,5),3),edge((2,3),1),edge((2,4),1)]\n",
    "print(E)"
   ]
  },
  {
   "cell_type": "markdown",
   "metadata": {},
   "source": [
    "## Possiamo ora vedere se l'ordinamento funziona (almeno su un esempio)"
   ]
  },
  {
   "cell_type": "code",
   "execution_count": null,
   "metadata": {},
   "outputs": [],
   "source": [
    "print(\"Prima:\")\n",
    "for e in E:\n",
    "    print(e)\n",
    "edgesort(E)\n",
    "print(\"Dopo\")\n",
    "for e in E:\n",
    "    print(e)"
   ]
  },
  {
   "cell_type": "markdown",
   "metadata": {},
   "source": [
    "## I magic method permettono anche di (ri)definire il comportamento degli operatori relazionali. Ad esempio, il comportamento di == è controllabile mediante il metodo ***\\__eq\\__***, mentre il comportamento di < è controllabile da ***\\__leq\\__***.\n",
    "## Sarebbe quindi \"bello\" che il confronto fra archi potesse essere espresso come\n",
    "## ***e < E[j]*** \n",
    "## anziché come\n",
    "## ***e.leq(E[j])***"
   ]
  },
  {
   "cell_type": "code",
   "execution_count": null,
   "metadata": {},
   "outputs": [],
   "source": [
    "if 'edge' in dir():\n",
    "    del(edge)\n",
    "\n",
    "class edge:\n",
    "    '''Classe che rappresenta archi non orientati pesati, v1.11 (non pythonica...).\n",
    "       L'arco vero e proprio, cioè la coppia (u,v) di vertici,\n",
    "       e il suo peso sono messi 'sullo stesso piano', sono cioè proprietà\n",
    "       dell'oggetto arco.\n",
    "       '''\n",
    "    def __init__(self,e,w):\n",
    "        '''Il parametro e ''è una coppia (tupla Python): e=(u,v)\n",
    "           mentre w è il peso.'''\n",
    "        self.e = e\n",
    "        self.w = w\n",
    "        \n",
    "    def __str__(self):\n",
    "        '''Definisce la rappresentazione di oggetti edge. Usata da print() e str()'''\n",
    "        s = str(self.e)+\": \"+str(self.w)\n",
    "        return s\n",
    "        \n",
    "    def __lt__(self,other):\n",
    "        '''Definire __lt__ forza un nuovo comportamento di <.\n",
    "           La funzione è identica al precedente metodo lt, con\n",
    "           la sola eccezione della stampa.'''\n",
    "        print(\"Chiamato il metodo magico __lt__\") # Se vediamo questa stampa... il metodo è andato in esecuzione\n",
    "        ws = self.w\n",
    "        wo = other.w\n",
    "        ms = min(self.e)\n",
    "        mo = min(other.e)\n",
    "        if ws<wo or (ws==wo and ms<mo) or \\\n",
    "            (ws==wo and ms==mo and max(self.e)<max(other.e)):\n",
    "            return True\n",
    "        else:\n",
    "            return False"
   ]
  },
  {
   "cell_type": "code",
   "execution_count": null,
   "metadata": {},
   "outputs": [],
   "source": [
    "# Come metodo funziona\n",
    "e1 = edge((5,1),3)\n",
    "e2 = edge((1,2),1)\n",
    "e1.__lt__(e2)"
   ]
  },
  {
   "cell_type": "code",
   "execution_count": null,
   "metadata": {},
   "outputs": [],
   "source": [
    "# E addirittura...\n",
    "e1<e2"
   ]
  },
  {
   "cell_type": "markdown",
   "metadata": {},
   "source": [
    "## L'ultima soluzione è più pythonica...\n",
    "## Nella soluzione attuale gli \"oggetti\" edge hanno due attributi, di cui uno (guarda caso) è l'edge vero e proprio mentre l'altro è il peso dell'edge. \n",
    "## La soluzione pythonica prevede di avere un oggetto edge con proprietà peso. In altri termini, un edge sarà la coppia (u,v) mentre il peso w sarà una sua proprietà. La classe edge viene dunque definita come sottoclasse di ***tuple***."
   ]
  },
  {
   "cell_type": "code",
   "execution_count": null,
   "metadata": {},
   "outputs": [],
   "source": [
    "if 'edge' in dir():\n",
    "    del(edge)\n",
    "    \n",
    "class edge(tuple):\n",
    "    '''Classe che rappresenta archi non orientati pesati, v2.0.\n",
    "    Eredita da tuple.\n",
    "       '''\n",
    "    def __new__(cls,e,w):\n",
    "        '''Ridefiniamo il metodo __new__ perché abbiamo bisogno di specificare\n",
    "           un parametro addizionale e non solo la coppia e=(u,v)'''\n",
    "        edge = super().__new__(cls,e)\n",
    "        edge.w = w\n",
    "        return edge\n",
    "        \n",
    "    def __str__(self):\n",
    "        '''Definisce la rappresentazione di oggetti edge. Usata da print() e str().\n",
    "           Occhio alle differenze con le versioni precedenti.'''\n",
    "        s = super().__str__()+\": \"+str(self.w)\n",
    "        # s = tuple.__str__(self)     # Alternativa, meno in linea con Python3\n",
    "        return s\n",
    "        \n",
    "    def __lt__(self,other):\n",
    "        '''Definire __lt__ forza un nuovo comportamento di <.\n",
    "           Metodo che confronta l'arco self con other, sulla base\n",
    "           prima del peso e poi dell'ordine lessicografico.\n",
    "           Anche qui, occhio alle differenze con le versioni precedenti'''\n",
    "        print(\"Chiamato il metodo magico __lt__\")\n",
    "        ws = self.w\n",
    "        wo = other.w\n",
    "        ms = min(self)\n",
    "        mo = min(other)\n",
    "        if ws<wo or (ws==wo and ms<mo) or \\\n",
    "            (ws==wo and ms==mo and max(self)<max(other)):\n",
    "            return True\n",
    "        else:\n",
    "            return False"
   ]
  },
  {
   "cell_type": "code",
   "execution_count": null,
   "metadata": {},
   "outputs": [],
   "source": [
    "# Il metodo magico viene chiamato quando viene usato l'operatore < per confrontare edge\n",
    "e1 = edge((5,1),3)\n",
    "e2 = edge((1,2),1)\n",
    "e1 < e2"
   ]
  },
  {
   "cell_type": "markdown",
   "metadata": {},
   "source": [
    "## Possiamo ora procedere con il progetto. Ci serve una funzione (ma una classe sarebbe meglio...) per leggere il grafo da file\n",
    "\n",
    "## Definiamo innanzi tutto una semplice rappresentazione esterna\n",
    "## Nell'ipotesi che i vertici siano individuati da (o comunque che siano in corrispondenza con) i numeri 1, 2, ..., ***n***, possiamo rappresentare un grafo (non orientato) pesato come lista di terne, una terna per riga:\n",
    "\n",
    "$\\large u_1\\quad v_1\\quad w_1$\n",
    "\n",
    "$\\large u_2\\quad v_2\\quad w_2$\n",
    "\n",
    "$\\large\\ldots$\n",
    "\n",
    "$\\large u_m\\quad v_m\\quad w_m$\n",
    "\n",
    "## dove gli $\\large u_i$ e i $\\large v_i$ sono numeri interi nell'intervallo $\\large\\lbrack 1, n\\rbrack$, mentre i $\\large w_i$ sono arbitrari numeri reali (non negativi, nella maggior parte delle applicazioni) che rappresentano i pesi.\n",
    "\n",
    "## Il numero di archi del grafo coincide ovviamente con il numero ***m*** di terne nel file. Come numero ***n*** di vertici si prende invece il massimo intero che compare come $\\large u_i$ o  $\\large v_i$ (cioè come indicativo di un vertice). Se poi un numero minore di ***n*** non compare, si assume che il corrispondente nodo sia isolato.\n",
    "\n",
    "## Ad esempio, il grafo:\n",
    "\n",
    "$\\large 2\\quad  3\\quad  2$\n",
    "\n",
    "$\\large 5\\quad  2\\quad  4$\n",
    "\n",
    "$\\large 3\\quad  4\\quad  1$\n",
    "\n",
    "$\\large 5\\quad  1\\quad  2$\n",
    "\n",
    "$\\large 1\\quad  3\\quad  4$\n",
    "\n",
    "$\\large 7\\quad  2\\quad  4$\n",
    "\n",
    "## ha 7 vertici (perché 7 è il massimo valore che compare nelle prime due posizioni delle terne) e i seguenti archi: (2,3), (5,2), (3,4), (5,1), (1,3), (7,2). Il vertice 6 è dunque isolato. In questo caso, inoltre, i pesi sono tutti interi e positivi."
   ]
  },
  {
   "cell_type": "code",
   "execution_count": null,
   "metadata": {},
   "outputs": [],
   "source": [
    "def readgraph(fn):\n",
    "    '''Legge il grafo da file. Ogni riga deve essere composta da tre numeri:\n",
    "        i primi due rappresentano i nodi (estremi dell'arco) mentre il terzo\n",
    "        rappresenta il peso.'''\n",
    "    E = []\n",
    "    with open(fn) as f:\n",
    "        for l in f:                       # l è una riga del file, letta come stringa\n",
    "            tokens = l.strip().split(' ') # strip() elimina caratteri \"sporchi\" a fine linea\n",
    "                                          # split restituisce una lista di token (definiti dal separatore spazio)\n",
    "            u = int(tokens[0])            # Il primo token rappresenta un vertice (deve essere un intero)\n",
    "            v = int(tokens[1])            # Idem per il secondo\n",
    "            w = float(tokens[2])          # Il terzo token rappresenta il peo (deve essere un reale)\n",
    "            e = edge((u,v),w)\n",
    "            E.append(e)\n",
    "    return E"
   ]
  },
  {
   "cell_type": "markdown",
   "metadata": {},
   "source": [
    "## Mettiamo insieme ciò che abbiamo fatto finora"
   ]
  },
  {
   "cell_type": "code",
   "execution_count": null,
   "metadata": {},
   "outputs": [],
   "source": [
    "if 'edge' in dir():\n",
    "    del(edge)\n",
    "    \n",
    "class edge(tuple):\n",
    "    '''Classe che rappresenta archi non orientati pesati, v2.0.\n",
    "    Eredita da tuple.\n",
    "       '''\n",
    "    def __new__(cls,e,w):\n",
    "        '''Ridefiniamo il metodo __new__ perché abbiamo bisogno di specificare\n",
    "           un parametro addizionale e non solo la coppia e=(u,v)'''\n",
    "        edge = super().__new__(cls,e)\n",
    "        edge.w = w\n",
    "        return edge\n",
    "        \n",
    "    def __str__(self):\n",
    "        '''Definisce la rappresentazione di oggetti edge. Usata da print() e str().\n",
    "           Occhio alle differenze con le versioni precedenti.'''\n",
    "        s = super().__str__()+\": \"+str(self.w)\n",
    "        # s = tuple.__str__(self)     # Alternativa, meno in linea con Python3\n",
    "        return s\n",
    "        \n",
    "    def __lt__(self,other):\n",
    "        '''Definire __lt__ forza un nuovo comportamento di <.\n",
    "           Metodo che confronta l'arco self con other, sulla base\n",
    "           prima del peso e poi dell'ordine lessicografico.\n",
    "           Anche qui, occhio alle differenze con le versioni precedenti'''\n",
    "        ws = self.w\n",
    "        wo = other.w\n",
    "        ms = min(self)\n",
    "        mo = min(other)\n",
    "        if ws<wo or (ws==wo and ms<mo) or \\\n",
    "            (ws==wo and ms==mo and max(self)<max(other)):\n",
    "            return True\n",
    "        else:\n",
    "            return False\n",
    "\n",
    "def readgraph(fn):\n",
    "    '''Legge il grafo da file. Ogni riga deve essere composta da tre numeri:\n",
    "        i primi due rappresentano i nodi (estremi dell'arco) mentre il terzo\n",
    "        rappresenta il peso.'''\n",
    "    E = []\n",
    "    with open(fn) as f:\n",
    "        for l in f:                       # l è una riga del file, letta come stringa\n",
    "            tokens = l.strip().split(' ') # strip() elimina caratteri \"sporchi\" a fine linea\n",
    "                                          # split restituisce una lista di token (definiti dal separatore spazio)\n",
    "            u = int(tokens[0])            # Il primo token rappresenta un vertice (deve essere un intero)\n",
    "            v = int(tokens[1])            # Idem per il secondo\n",
    "            w = float(tokens[2])          # Il terzo token rappresenta il peo (deve essere un reale)\n",
    "            e = edge((u,v),w)\n",
    "            E.append(e)\n",
    "    return E\n",
    "\n",
    "def edgesort(E):\n",
    "    '''Usa insertion sort per ordinare una lista di archi'''\n",
    "    n = len(E)\n",
    "    for i in range(1,n):\n",
    "        e = E[i]\n",
    "        j = i-1\n",
    "        while j>=0 and e<E[j]:\n",
    "            E[j+1] = E[j]\n",
    "            j = j-1\n",
    "        E[j+1] = e\n",
    "\n",
    "if __name__=='__main__':\n",
    "    E = readgraph('graph1.txt')\n",
    "    print(\"Prima:\")\n",
    "    for e in E:\n",
    "        print(e)\n",
    "    edgesort(E)\n",
    "    print(\"Dopo\")\n",
    "    for e in E:\n",
    "        print(e)"
   ]
  },
  {
   "cell_type": "markdown",
   "metadata": {},
   "source": [
    "## Definiamo ora una classe ***grafo***, che supporremo memorizzato nel file ***simplegraph.py*** insieme alla classe ***edge***"
   ]
  },
  {
   "cell_type": "code",
   "execution_count": null,
   "metadata": {},
   "outputs": [],
   "source": [
    "if 'edge' in dir():\n",
    "    del(edge)\n",
    "if 'graph' in dir():\n",
    "    del(graph)\n",
    "    \n",
    "class edge(tuple):\n",
    "    '''Classe che rappresenta archi non orientati pesati, v2.0.\n",
    "    Eredita da tuple.\n",
    "       '''\n",
    "    def __new__(cls,e,w):\n",
    "        '''Ridefiniamo il metodo __new__ perché abbiamo bisogno di specificare\n",
    "           un parametro addizionale e non solo la coppia e=(u,v)'''\n",
    "        edge = super().__new__(cls,e)\n",
    "        edge.w = w\n",
    "        return edge\n",
    "        \n",
    "    def __str__(self):\n",
    "        '''Definisce la rappresentazione di oggetti edge. Usata da print() e str().\n",
    "           Occhio alle differenze con le versioni precedenti.'''\n",
    "        s = super().__str__()+\": \"+str(self.w)\n",
    "        # s = tuple.__str__(self)     # Alternativa, meno in linea con Python3\n",
    "        return s\n",
    "        \n",
    "    def __lt__(self,other):\n",
    "        '''Definire __lt__ forza un nuovo comportamento di <.\n",
    "           Metodo che confronta l'arco self con other, sulla base\n",
    "           prima del peso e poi dell'ordine lessicografico.\n",
    "           Anche qui, occhio alle differenze con le versioni precedenti'''\n",
    "        ws = self.w\n",
    "        wo = other.w\n",
    "        ms = min(self)\n",
    "        mo = min(other)\n",
    "        if ws<wo or (ws==wo and ms<mo) or \\\n",
    "            (ws==wo and ms==mo and max(self)<max(other)):\n",
    "            return True\n",
    "        else:\n",
    "            return False\n",
    "\n",
    "class graph:\n",
    "    '''Classe che descrive un grafo pesato con vertex set V={1,2,...,n}\n",
    "       Il grafo viene inizializzato (come in precedenza) leggendo\n",
    "       la lista degli archi e i relativi pesi da file.\n",
    "       Vengono poi creati il vertex set V e un dizionario A che\n",
    "       rappresenta le liste di adiacenza. La classe usa gli attributi \"privati\"\n",
    "       __E, __A, __V ed __n definendo corrispondenti proprietà per controllarne\n",
    "       gli accessi.'''\n",
    "    def __init__(self,fn):\n",
    "        '''Inizializza il grafo leggendo la lista degli archi e costruendo l'insieme dei vertici\n",
    "           e il dizionario che rappresenta le liste di adiacenza'''\n",
    "        self.__E = []                           # Lista egli archi\n",
    "        self.__V = set()                        # Insieme dei vertici\n",
    "        self.__A = {}                           # Dizionario per le adiacenze dei vertici\n",
    "        self.__n = 0                            # self n memorizza sempre il massimo valore di nodo considerato\n",
    "        with open(fn) as f:\n",
    "            for l in f:                       # l è una riga del file, letta come stringa\n",
    "                tokens = l.strip().split(' ') # strip() elimina caratteri \"sporchi\" a fine linea\n",
    "                                              # split restituisce una lista di token (definiti dal separatore spazio)\n",
    "                u = int(tokens[0])            # Il primo token rappresenta un vertice (deve essere un intero)\n",
    "                v = int(tokens[1])            # Idem per il secondo\n",
    "                w = float(tokens[2])          # Il terzo token rappresenta il peo (deve essere un reale)\n",
    "                e = edge((u,v),w)\n",
    "                self.__E.append(e)\n",
    "                M = max(u,v)\n",
    "                m = min(u,v)\n",
    "                if M > self.__n:                # Questa condizione implica che M non è ancora in V\n",
    "                    for i in range(self.__n+1,M+1):    # Vengono quindi inseriti tutti i nodi di indice\n",
    "                        self.__V.add(i)                # maggiore di n e non maggiore di M\n",
    "                        self.__A[i] = []\n",
    "                    self.__n = M                       # Si aggiorna il valore di n\n",
    "                self.__A[M].append(m)                  # Si aggiornano le liste di adiacenza\n",
    "                self.__A[m].append(M)\n",
    "        super().__setattr__('E',self.__E)\n",
    "        super().__setattr__('V',self.__V)\n",
    "        super().__setattr__('A',self.__A)\n",
    "        super().__setattr__('n',self.__n)\n",
    "        \n",
    "    @property\n",
    "    def A(self):\n",
    "        return self.__A\n",
    "\n",
    "    @A.setter\n",
    "    def A(self,x):\n",
    "        return\n",
    "\n",
    "    @property\n",
    "    def E(self):\n",
    "        return self.__E\n",
    "\n",
    "    @E.setter\n",
    "    def E(self,x):\n",
    "        return\n",
    "    \n",
    "    @property\n",
    "    def V(self):\n",
    "        return self.__V\n",
    "\n",
    "    @V.setter\n",
    "    def V(self,x):\n",
    "        return\n",
    "\n",
    "    @property\n",
    "    def n(self):\n",
    "        return self.__n\n",
    "\n",
    "    @n.setter\n",
    "    def n(self,x):\n",
    "        return\n"
   ]
  },
  {
   "cell_type": "markdown",
   "metadata": {},
   "source": [
    "## Nuova versione del programma"
   ]
  },
  {
   "cell_type": "code",
   "execution_count": null,
   "metadata": {},
   "outputs": [],
   "source": [
    "#Definizione o importazione delle classi edge e graph\n",
    "\n",
    "def edgesort(E):\n",
    "    '''Usa insertion sort per ordinare una lista di archi'''\n",
    "    n = len(E)\n",
    "    for i in range(1,n):\n",
    "        e = E[i]\n",
    "        j = i-1\n",
    "        while j>=0 and e<E[j]:\n",
    "            E[j+1] = E[j]\n",
    "            j = j-1\n",
    "        E[j+1] = e\n",
    "\n",
    "G = graph('graph1.txt')   # graph1.txt contiene l'elenco degli archi\n",
    "\n",
    "for e in G.E:\n",
    "    print(e)\n",
    "\n",
    "edgesort(G.E)\n",
    "\n",
    "print()\n",
    "\n",
    "for e in G.E:\n",
    "    print(e)"
   ]
  },
  {
   "cell_type": "markdown",
   "metadata": {},
   "source": [
    "## Dobbiamo ora definire una classe che implementa la struttura dati Union-Find"
   ]
  },
  {
   "cell_type": "code",
   "execution_count": null,
   "metadata": {},
   "outputs": [],
   "source": [
    "class unionfind:\n",
    "    '''Classe che implementa una struttura dati per insiemi disgiunti (union-find)\n",
    "    secondo lo schema quick-union e find con compressione del cammino.\n",
    "    I dati sono mantenuti in due liste: (1) la lista __p, che memorizza i parent di ogni elemento;\n",
    "    (2) la lista __d che memorizza la dimensione dei vari sottoinsiemi (più correttamente,\n",
    "   __d[x] memorizza il numero di elementi che aveva il sotto-insieme cui appartiene x nel momento\n",
    "   in cui questo è stato per l'ultima volta il rappresentante del suo sotto-insieme)'''\n",
    "    def __init__(self, n):\n",
    "        self.__p = ['unused'] + list(range(1,n+1)) # Se _p[i]==i, allora i è rappresentante del suo insieme\n",
    "        self.__d = ['unused'] + [1] * n            # _d[i] è il peso (num. di elementi) del sottoinsieme di i\n",
    "        \n",
    "\n",
    "    def find(self, x):\n",
    "        '''Calcola il rappresentante del sotto-insieme cui appartiene i.\n",
    "           Usa la path-compression per ridurre l'altezza dell'albero che implementa\n",
    "           il sotto-insieme.'''\n",
    "        j = x\n",
    "        while (j != self.__p[j]):\n",
    "            self.__p[j] = self.__p[self.__p[j]]   # _p[j] ora punta al \"nonno\" di j\n",
    "            j = self.__p[j]                       # ... e j risale al nonno\n",
    "        return j\n",
    "\n",
    "    def union(self,x,y):\n",
    "        '''La union fa puntare il sotto-insieme di peso minore al sotto-insieme di peso maggiore'''\n",
    "        xr = self.find(x)\n",
    "        yr = self.find(y)\n",
    "        if xr != yr:\n",
    "            if self.__d[xr]<self.__d[yr]:\n",
    "                self.__p[xr] = yr\n",
    "                self.__d[yr] += self.__d[xr]\n",
    "            else:\n",
    "                self.__p[yr] = xr\n",
    "                self.__d[xr] += self.__d[yr]"
   ]
  },
  {
   "cell_type": "code",
   "execution_count": null,
   "metadata": {},
   "outputs": [],
   "source": [
    "U = unionfind(10)\n",
    "print(U._unionfind__p)\n",
    "print(U._unionfind__d)"
   ]
  },
  {
   "cell_type": "code",
   "execution_count": null,
   "metadata": {},
   "outputs": [],
   "source": [
    "U.union(1,2)\n",
    "U.union(3,9)\n",
    "U.union(1,9)\n",
    "U.find(2)"
   ]
  },
  {
   "cell_type": "code",
   "execution_count": null,
   "metadata": {},
   "outputs": [],
   "source": [
    "print(U._unionfind__p)\n",
    "print(U._unionfind__d)"
   ]
  },
  {
   "cell_type": "markdown",
   "metadata": {},
   "source": [
    "## Il programma finalmente completo"
   ]
  },
  {
   "cell_type": "code",
   "execution_count": 2,
   "metadata": {},
   "outputs": [
    {
     "name": "stdout",
     "output_type": "stream",
     "text": [
      "Grafo di input\n",
      "(2, 3): 2.0\n",
      "(5, 2): 4.0\n",
      "(3, 4): 1.0\n",
      "(5, 1): 2.0\n",
      "(1, 3): 4.0\n",
      "\n",
      "Minimum Spanning Tree\n",
      "(3, 4): 1.0\n",
      "(5, 1): 2.0\n",
      "(2, 3): 2.0\n",
      "(1, 3): 4.0\n"
     ]
    }
   ],
   "source": [
    "class edge(tuple):\n",
    "    '''Classe che rappresenta archi non orientati pesati, v2.0.\n",
    "    Eredita da tuple.\n",
    "       '''\n",
    "    def __new__(cls,e,w):\n",
    "        '''Ridefiniamo il metodo __new__ perché abbiamo bisogno di specificare\n",
    "           un parametro addizionale e non solo la coppia e=(u,v)'''\n",
    "        edge = super().__new__(cls,e)\n",
    "        edge.w = w\n",
    "        return edge\n",
    "        \n",
    "    def __str__(self):\n",
    "        '''Definisce la rappresentazione di oggetti edge. Usata da print() e str().\n",
    "           Occhio alle differenze con le versioni precedenti.'''\n",
    "        s = super().__str__()+\": \"+str(self.w)\n",
    "        # s = tuple.__str__(self)     # Alternativa, meno in linea con Python3\n",
    "        return s\n",
    "        \n",
    "    def __lt__(self,other):\n",
    "        '''Definire __lt__ forza un nuovo comportamento di <.\n",
    "           Metodo che confronta l'arco self con other, sulla base\n",
    "           prima del peso e poi dell'ordine lessicografico.\n",
    "           Anche qui, occhio alle differenze con le versioni precedenti'''\n",
    "        ws = self.w\n",
    "        wo = other.w\n",
    "        ms = min(self)\n",
    "        mo = min(other)\n",
    "        if ws<wo or (ws==wo and ms<mo) or \\\n",
    "            (ws==wo and ms==mo and max(self)<max(other)):\n",
    "            return True\n",
    "        else:\n",
    "            return False\n",
    "\n",
    "class graph:\n",
    "    '''Classe che descrive un grafo pesato con vertex set V={1,2,...,n}\n",
    "       Il grafo viene inizializzato (come in precedenza) leggendo\n",
    "       la lista degli archi e i relativi pesi da file.\n",
    "       Vengono poi creati il vertex set V e un dizionario A che\n",
    "       rappresenta le liste di adiacenza. La classe usa gli attributi \"privati\"\n",
    "       __E, __A, __V ed __n definendo corrispondenti proprietà per controllarne\n",
    "       gli accessi.'''\n",
    "    def __init__(self,fn):\n",
    "        '''Inizializza il grafo leggendo la lista degli archi e costruendo l'insieme dei vertici\n",
    "           e il dizionario che rappresenta le liste di adiacenza'''\n",
    "        self.__E = []                           # Lista egli archi\n",
    "        self.__V = set()                        # Insieme dei vertici\n",
    "        self.__A = {}                           # Dizionario per le adiacenze dei vertici\n",
    "        self.__n = 0                            # self n memorizza sempre il massimo valore di nodo considerato\n",
    "        with open(fn) as f:\n",
    "            for l in f:                       # l è una riga del file, letta come stringa\n",
    "                tokens = l.strip().split(' ') # strip() elimina caratteri \"sporchi\" a fine linea\n",
    "                                              # split restituisce una lista di token (definiti dal separatore spazio)\n",
    "                u = int(tokens[0])            # Il primo token rappresenta un vertice (deve essere un intero)\n",
    "                v = int(tokens[1])            # Idem per il secondo\n",
    "                w = float(tokens[2])          # Il terzo token rappresenta il peo (deve essere un reale)\n",
    "                e = edge((u,v),w)\n",
    "                self.__E.append(e)\n",
    "                M = max(u,v)\n",
    "                m = min(u,v)\n",
    "                if M > self.__n:                # Questa condizione implica che M non è ancora in V\n",
    "                    for i in range(self.__n+1,M+1):    # Vengono quindi inseriti tutti i nodi di indice\n",
    "                        self.__V.add(i)                # maggiore di n e non maggiore di M\n",
    "                        self.__A[i] = []\n",
    "                    self.__n = M                       # Si aggiorna il valore di n\n",
    "                self.__A[M].append(m)                  # Si aggiornano le liste di adiacenza\n",
    "                self.__A[m].append(M)\n",
    "        super().__setattr__('E',self.__E)\n",
    "        super().__setattr__('V',self.__V)\n",
    "        super().__setattr__('A',self.__A)\n",
    "        super().__setattr__('n',self.__n)\n",
    "        \n",
    "    @property\n",
    "    def A(self):\n",
    "        return self.__A\n",
    "\n",
    "    @A.setter\n",
    "    def A(self,x):\n",
    "        return\n",
    "\n",
    "    @property\n",
    "    def E(self):\n",
    "        return self.__E\n",
    "\n",
    "    @E.setter\n",
    "    def E(self,x):\n",
    "        return\n",
    "    \n",
    "    @property\n",
    "    def V(self):\n",
    "        return self.__V\n",
    "\n",
    "    @V.setter\n",
    "    def V(self,x):\n",
    "        return\n",
    "\n",
    "    @property\n",
    "    def n(self):\n",
    "        return self.__n\n",
    "\n",
    "    @n.setter\n",
    "    def n(self,x):\n",
    "        return\n",
    "    \n",
    "class unionfind:\n",
    "    '''Classe che implementa una struttura dati per insiemi disgiunti (union-find)\n",
    "    secondo lo schema quick-union e find con compressione del cammino.\n",
    "    I dati sono mantenuti in due liste: (1) la lista __p, che memorizza i parent di ogni elemento;\n",
    "    (2) la lista __d che memorizza la dimensione dei vari sottoinsiemi (più correttamente,\n",
    "   __d[x] memorizza il numero di elementi che aveva il sotto-insieme cui appartiene x nel momento\n",
    "   in cui questo è stato per l'ultima volta il rappresentante del suo sotto-insieme)'''\n",
    "    def __init__(self, n):\n",
    "        self.__p = ['unused'] + list(range(1,n+1)) # Se _p[i]==i, allora i è rappresentante del suo insieme\n",
    "        self.__d = ['unused'] + [1] * n            # _d[i] è il peso (num. di elementi) del sottoinsieme di i\n",
    "        \n",
    "\n",
    "    def find(self, x):\n",
    "        '''Calcola il rappresentante del sotto-insieme cui appartiene i.\n",
    "           Usa la path-compression per ridurre l'altezza dell'albero che implementa\n",
    "           il sotto-insieme.'''\n",
    "        j = x\n",
    "        while (j != self.__p[j]):\n",
    "            self.__p[j] = self.__p[self.__p[j]]   # _p[j] ora punta al \"nonno\" di j\n",
    "            j = self.__p[j]                       # ... e j risale al nonno\n",
    "        return j\n",
    "\n",
    "    def union(self,x,y):\n",
    "        '''La union fa puntare il sotto-insieme di peso minore al sotto-insieme di peso maggiore'''\n",
    "        xr = self.find(x)\n",
    "        yr = self.find(y)\n",
    "        if xr != yr:\n",
    "            if self.__d[xr]<self.__d[yr]:\n",
    "                self.__p[xr] = yr\n",
    "                self.__d[yr] += self.__d[xr]\n",
    "            else:\n",
    "                self.__p[yr] = xr\n",
    "                self.__d[xr] += self.__d[yr]\n",
    "\n",
    "def edgesort(E):\n",
    "    '''Usa insertion sort per ordinare una lista di archi'''\n",
    "    n = len(E)\n",
    "    for i in range(1,n):\n",
    "        e = E[i]\n",
    "        j = i-1\n",
    "        while j>=0 and e<E[j]:\n",
    "            E[j+1] = E[j]\n",
    "            j = j-1\n",
    "        E[j+1] = e             \n",
    "\n",
    "G = graph('graph1.txt')   # graph1.txt contiene l'elenco degli archi\n",
    "\n",
    "print(\"Grafo di input\")\n",
    "for e in G.E:\n",
    "    print(e)\n",
    "\n",
    "edgesort(G.E)\n",
    "\n",
    "U = unionfind(G.n)\n",
    "\n",
    "count = 0\n",
    "MST = []\n",
    "for e in G.E:\n",
    "    u = e[0]\n",
    "    v = e[1]\n",
    "    if U.find(u) != U.find(v):\n",
    "        U.union(u,v)\n",
    "        MST.append(e)\n",
    "        count += 1\n",
    "        if count == G.n-1:\n",
    "            break\n",
    "\n",
    "print(\"\\nMinimum Spanning Tree\")\n",
    "for e in MST:\n",
    "    print(e)"
   ]
  },
  {
   "cell_type": "markdown",
   "metadata": {},
   "source": [
    "## Come script invocabile da shell:"
   ]
  },
  {
   "cell_type": "code",
   "execution_count": null,
   "metadata": {},
   "outputs": [],
   "source": [
    "#!/usr/bin/env python3\n",
    "# -*- coding: utf-8 -*-\n",
    "\n",
    "from simplegraph import graph\n",
    "from unionfind import unionfind\n",
    "\n",
    "def edgesort(E):\n",
    "    '''Usa insertion sort per ordinare una lista di archi'''\n",
    "    n = len(E)\n",
    "    for i in range(1,n):\n",
    "        e = E[i]\n",
    "        j = i-1\n",
    "        while j>=0 and e<E[j]:\n",
    "            E[j+1] = E[j]\n",
    "            j = j-1\n",
    "        E[j+1] = e\n",
    "\n",
    "def main():\n",
    "    \n",
    "    \n",
    "    G = graph('graph1.txt')   # graph1.txt contiene l'elenco degli archi\n",
    "\n",
    "    print(\"Grafo di input\")\n",
    "    for e in G.E:\n",
    "        print(e)\n",
    "\n",
    "    edgesort(G.E)\n",
    "\n",
    "    U = unionfind(G.n)\n",
    "\n",
    "    count = 0\n",
    "    MST = []\n",
    "    for e in G.E:\n",
    "        u = e[0]\n",
    "        v = e[1]\n",
    "        if U.find(u) != U.find(v):\n",
    "            U.union(u,v)\n",
    "            MST.append(e)\n",
    "            count += 1\n",
    "            if count == G.n-1:\n",
    "                break\n",
    "\n",
    "    print(\"\\nMinimum Spanning Tree\")\n",
    "    for e in MST:\n",
    "        print(e)\n",
    "        \n",
    "        \n",
    "if __name__=='__main__':\n",
    "    main()"
   ]
  }
 ],
 "metadata": {
  "kernelspec": {
   "display_name": "Python 3",
   "language": "python",
   "name": "python3"
  },
  "language_info": {
   "codemirror_mode": {
    "name": "ipython",
    "version": 3
   },
   "file_extension": ".py",
   "mimetype": "text/x-python",
   "name": "python",
   "nbconvert_exporter": "python",
   "pygments_lexer": "ipython3",
   "version": "3.6.6"
  }
 },
 "nbformat": 4,
 "nbformat_minor": 2
}
