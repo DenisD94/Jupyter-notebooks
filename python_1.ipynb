{
 "cells": [
  {
   "cell_type": "markdown",
   "metadata": {},
   "source": [
    "# Obiettivi del modulo Python (6 CFU)\n",
    "## Python ... pitonico\n",
    "## Strutture dati e data management\n",
    "## Implementazione di algoritmi non banali\n",
    "## Salto di qualità negli skill di programmazione\n",
    "## Abilità progettuale"
   ]
  },
  {
   "cell_type": "markdown",
   "metadata": {},
   "source": [
    "# Quale Python? Quale ambiente di lavoro?\n",
    "\n",
    "1. Useremo Python 3, naturalmente in ambiente Linux\n",
    "2. Ma potremo \"far girare\" i nostri programmi (script) in molti modi diversi, \"secondo i gusti\"\n",
    "    3. Invocando gli script da shell (dopo averli resi eseguibili)\n",
    "    4. Interagendo direttamente con l'interprete\n",
    "    5. Usando la shell interattiva ipython3 (sudo apt-get install ipython3)\n",
    "    6. Usando (ipython3 da) notebook jupyter (sudo apt-get install jupyter)\n",
    "    7. Usando un IDE\n",
    "4. ... con l'ulteriore grado di libertà di usare Python nella distribuzione Anaconda\n",
    "5. Due fra i possibili IDE disponibili\n",
    "    8. Spyder per Python 3 (sudo apt-get install spyder3)\n",
    "    9. PyCharm: https://www.jetbrains.com/pycharm/download/#section=linux) oppure (debian/ubuntu/...)\n",
    "               sudo apt-get install snapd\n",
    "               sudo snap install pycharm-community --classic"
   ]
  },
  {
   "cell_type": "markdown",
   "metadata": {},
   "source": [
    "## Per chi preferisce (o \"per quando dovremo\") lavorare con editor+shell command"
   ]
  },
  {
   "cell_type": "code",
   "execution_count": null,
   "metadata": {},
   "outputs": [],
   "source": [
    "#!/usr/bin/env python3\n",
    "# -*- coding: utf-8 -*-\n",
    "\n",
    "if __name__=='__main__':\n",
    "    # qui inserire il codice Python\n",
    "    # partendo da questo livello di indent\n",
    "    # Ecco il più semplice degli esempi\n",
    "    print(\"Hello world!\")"
   ]
  },
  {
   "cell_type": "markdown",
   "metadata": {},
   "source": [
    "### Per eseguire lo script\n",
    "\n",
    "\\> python3 hello_world.py\n",
    "\n",
    "### ... oppure\n",
    "\n",
    "\\> chmod u+x hello_world.py\n",
    "\n",
    "\\> ./hello_world.py"
   ]
  },
  {
   "cell_type": "markdown",
   "metadata": {},
   "source": [
    "# Iterabili e iteratori"
   ]
  },
  {
   "cell_type": "markdown",
   "metadata": {},
   "source": [
    "### Problema: generare, uniformemente a caso, 10 numeri interi nell'intervallo [1,10] "
   ]
  },
  {
   "cell_type": "code",
   "execution_count": null,
   "metadata": {},
   "outputs": [],
   "source": [
    "from random import random\n",
    "i = 0\n",
    "while i<10:\n",
    "    print(1+int(random()*10))\n",
    "    i = i+1"
   ]
  },
  {
   "cell_type": "markdown",
   "metadata": {},
   "source": [
    "## Come script completo"
   ]
  },
  {
   "cell_type": "code",
   "execution_count": null,
   "metadata": {},
   "outputs": [],
   "source": [
    "#!/usr/bin/env python3# -*- coding: utf-8 -*-\n",
    "\n",
    "if __name__=='__main__':\n",
    "    from random import random\n",
    "    i = 0\n",
    "    while i<10:\n",
    "        print(1+int(random()*10))\n",
    "        i = i+1"
   ]
  },
  {
   "cell_type": "markdown",
   "metadata": {},
   "source": [
    "## o anche..."
   ]
  },
  {
   "cell_type": "code",
   "execution_count": null,
   "metadata": {},
   "outputs": [],
   "source": [
    "#!/usr/bin/env python3\n",
    "# -*- coding: utf-8 -*-\n",
    "\n",
    "from random import random\n",
    "\n",
    "def main():\n",
    "    i = 0\n",
    "    while i<10:\n",
    "        print(1+int(random()*10))\n",
    "        i = i+1\n",
    "\n",
    "if __name__=='__main__':\n",
    "    main()"
   ]
  },
  {
   "cell_type": "markdown",
   "metadata": {},
   "source": [
    "### Inciso: Python dispone di una sterminata quantità di moduli (librerie) utilizzabili in toto o in parte"
   ]
  },
  {
   "cell_type": "code",
   "execution_count": null,
   "metadata": {},
   "outputs": [],
   "source": [
    "from random import random\n",
    "# importa la definizione della funzione random \n",
    "# (incluse tutte le eventuali dipendenze) dal modulo omonimo"
   ]
  },
  {
   "cell_type": "markdown",
   "metadata": {},
   "source": [
    "### Fare le cose nel modo giusto in Python $\\longrightarrow$ in ***pythonic***\n",
    "### In Python non non si può scrivere (con nessuna \"variante sintattica\") qualcosa del tipo:"
   ]
  },
  {
   "cell_type": "code",
   "execution_count": null,
   "metadata": {},
   "outputs": [],
   "source": [
    "for i=0 to 9:                   # Non funziona\n",
    "    print(1+int(random()*10))\n",
    "for (i=0, i<10, i++):           # Non funziona\n",
    "    print(1+int(random()*10))"
   ]
  },
  {
   "cell_type": "code",
   "execution_count": null,
   "metadata": {},
   "outputs": [],
   "source": [
    "#### In Python (diremmo anzi \"in pythonic\") si scrive:"
   ]
  },
  {
   "cell_type": "code",
   "execution_count": null,
   "metadata": {},
   "outputs": [],
   "source": [
    "for i in range(10):\n",
    "    print(1+int(random()*10))\n",
    "    \n",
    "# range() restituisce un iterabile, ovvero un oggetto Python che può essere\n",
    "# \"visitato\" sequenzialmente (elemento dopo elemento) secondo un ben preciso ordine. "
   ]
  },
  {
   "cell_type": "code",
   "execution_count": null,
   "metadata": {},
   "outputs": [],
   "source": [
    "# range può avere fino a tre parametri espliciti (start, stop, step)\n",
    "for i in range(0,10,2):\n",
    "    print(i)"
   ]
  },
  {
   "cell_type": "markdown",
   "metadata": {},
   "source": [
    "### Sono molti gli oggetti Python ***iterabili***, cioè che possono essere visitati in questo modo (con brutta traduzione tecnica, diremo \"iterati\")"
   ]
  },
  {
   "cell_type": "markdown",
   "metadata": {},
   "source": [
    "### Ad esempio, le liste sono iterabili"
   ]
  },
  {
   "cell_type": "code",
   "execution_count": null,
   "metadata": {},
   "outputs": [],
   "source": [
    "L = ['assert','pass','with','continue','break','yield']\n",
    "for simple_statement in L:\n",
    "    print(\"{} is a simple statement\".format(simple_statement))"
   ]
  },
  {
   "cell_type": "markdown",
   "metadata": {},
   "source": [
    "\n",
    "### Poiché i dettagli su \"come\" iterare, dipendono dal particolare oggetto, il processo di iterazione si articola in due fasi:\n",
    "\n",
    "1) dall'iterabile di definisce un oggetto ***iteratore***, che \"sa\" come accedere agli elementi, uno per volta;\n",
    "\n",
    "2) ogni iteratore espone poi funzioni standard che possono essere usate per l'iterazione\n",
    "\n",
    "### Gli iteratori possono essere esplicitamente \"estratti\" dagli iterabili "
   ]
  },
  {
   "cell_type": "code",
   "execution_count": null,
   "metadata": {},
   "outputs": [],
   "source": [
    "R=range(0,10,2)  # R è un iterabile\n",
    "print(R.start,R.stop,R.step) # start, stop e step sono attributi di un iterabile\n",
    "RI = iter(R)     # La funzione iter \"estrae\" un iteratore da un iterabile\n",
    "i = next(RI)     # Finalmente è la funzione next che \"percorre\" gli elementi\n",
    "while i<R.stop:\n",
    "    print(i)\n",
    "    i = next(RI)"
   ]
  },
  {
   "cell_type": "code",
   "execution_count": null,
   "metadata": {},
   "outputs": [],
   "source": [
    "L = ['assert','pass','with','continue','break','yield']\n",
    "iterator = iter(L)\n",
    "while True:\n",
    "    try:\n",
    "        simple_statement = next(iterator)\n",
    "        print(\"{} is a simple statement\".format(simple_statement))\n",
    "    except StopIteration:\n",
    "        break"
   ]
  },
  {
   "cell_type": "markdown",
   "metadata": {},
   "source": [
    "### Ritorneremo più avanti sull'argomento degli iteratori e degli iterabili "
   ]
  },
  {
   "cell_type": "markdown",
   "metadata": {},
   "source": [
    "# Altri ***Compound statements***"
   ]
  },
  {
   "cell_type": "markdown",
   "metadata": {},
   "source": [
    "## ***If [else]*** statement"
   ]
  },
  {
   "cell_type": "code",
   "execution_count": null,
   "metadata": {},
   "outputs": [],
   "source": [
    "def eqn1solve(a,b):\n",
    "    \"\"\"Solve equation a*x+b=0\"\"\"\n",
    "    if (a==0):\n",
    "        if (b!=0):\n",
    "            print(\"Eqn impossible\")\n",
    "        else:\n",
    "            print(\"Identity 0=0\")\n",
    "    else:\n",
    "        if (b==0):\n",
    "            print(\"Solution x=0\")\n",
    "        else:\n",
    "            print(\"Solution x={0}\".format(-b/a))\n",
    "            \n",
    "eqn1solve(2,1)\n",
    "help(eqn1solve)\n",
    "print(eqn1solve.__doc__)\n"
   ]
  },
  {
   "cell_type": "markdown",
   "metadata": {},
   "source": [
    "## ***If [elif] [else]*** statement"
   ]
  },
  {
   "cell_type": "code",
   "execution_count": null,
   "metadata": {},
   "outputs": [],
   "source": [
    "def eqn1solve(a,b):\n",
    "    \"\"\"Solve equation a*x+b=0\"\"\"\n",
    "    if (a==0 and b==1):\n",
    "        print(\"Eqn impossible\")\n",
    "    elif (a==0 and b==0):\n",
    "        print(\"Identity 0=0\")\n",
    "    elif (b==0):\n",
    "        print(\"Solution x=0\")\n",
    "    else:\n",
    "        print(\"Solution x={0}\".format(-b/a))\n",
    "\n",
    "eqn1solve(2,1)"
   ]
  },
  {
   "cell_type": "markdown",
   "metadata": {},
   "source": [
    "## ***try ... except***"
   ]
  },
  {
   "cell_type": "code",
   "execution_count": null,
   "metadata": {},
   "outputs": [],
   "source": [
    "class OutOfLimit(Exception):\n",
    "    pass\n",
    "\n",
    "v=0\n",
    "while True:\n",
    "    try:\n",
    "        v = input(\"Scegli un numero intero fra 1 e 10: \")\n",
    "        n = int(v)\n",
    "        if (n<1 or n>10):\n",
    "            raise OutOfLimit\n",
    "        break\n",
    "    except ValueError:\n",
    "        print(\"Letterale non riconosciuto come numero intero! Riprovare ...\")\n",
    "    except OutOfLimit:\n",
    "        print(\"Il numero non è compreso nell'intervallo desiderato! Riprovare ...\")\n",
    "\n",
    "print(\"Hai scelto il numero {}\".format(v))"
   ]
  },
  {
   "cell_type": "markdown",
   "metadata": {},
   "source": [
    "# I tipi di dato in Python"
   ]
  },
  {
   "cell_type": "markdown",
   "metadata": {},
   "source": [
    "## Tipi predefiniti"
   ]
  },
  {
   "cell_type": "code",
   "execution_count": null,
   "metadata": {},
   "outputs": [],
   "source": [
    "print(type(3))\n",
    "print(type(3.14))\n",
    "print(type('Hello world'))\n",
    "print(type(\"Hello world\"))\n",
    "print(type(True))\n",
    "print(type(('a',1,'b',2)))\n",
    "print(type(['a',1,'b',2]))\n",
    "print(type({'a':1,'b':2}))\n",
    "print(type({'a','b','c'}))"
   ]
  },
  {
   "cell_type": "markdown",
   "metadata": {},
   "source": [
    "### Sono tutti ***first class objects***"
   ]
  },
  {
   "cell_type": "code",
   "execution_count": null,
   "metadata": {},
   "outputs": [],
   "source": [
    "print(type(complex('1-2j')))\n",
    "print(type(complex(1,-2)))\n",
    "print(type(range(0,10,3)))\n",
    "def f1(x):\n",
    "    return x+1\n",
    "exec(\"\"\"def f2(x):\n",
    "    y = x+1\n",
    "    return y\"\"\")\n",
    "f3 = f2\n",
    "print(\"s1: {0}\\ns2: {1}\\ns3: {2}\".format(type(f1),type(f2),type(f3)))\n",
    "print(type(lambda x: x+1))"
   ]
  },
  {
   "cell_type": "markdown",
   "metadata": {},
   "source": [
    "### In python il tipo è associato all'oggetto, non alla variabile (nome), che non deve essere dichiarata"
   ]
  },
  {
   "cell_type": "code",
   "execution_count": null,
   "metadata": {},
   "outputs": [],
   "source": [
    "x = 10\n",
    "print(type(x))\n",
    "x = 3.14\n",
    "print(type(x))\n",
    "x = \"Pi greco\"\n",
    "print(type(x))"
   ]
  },
  {
   "cell_type": "markdown",
   "metadata": {},
   "source": [
    "### Il C, come la grande maggioranza dei linguaggi imperativi, modella l'accesso agli oggetti mediante i due concetti di ***ambiente*** e ***memoria*** (***store*** e ***environment***). A grandi linee, l'ambiente mappa nomi in locazioni di memoria mentre lo store mappa locazioni in oggetti (valori). In Python esistono solo mapping diretti fra nomi e oggetti, chiamati ***namespace***\n",
    "\n",
    "### int a = 10 \n",
    "### /\\* In C il \"nome\" a identifica una locazione di memoria in cui viene inizialmente scritto il numero intero 10 */"
   ]
  },
  {
   "cell_type": "code",
   "execution_count": null,
   "metadata": {},
   "outputs": [],
   "source": [
    "x = 10\n",
    "print(id(x))\n",
    "x = 3.14\n",
    "print(id(x))\n",
    "x = \"Pi greco\"\n",
    "print(id(x))\n",
    "y = 10\n",
    "print(id(y))\n",
    "z = \"Pi greco\"\n",
    "print(id(z))\n",
    "print(x == z)\n",
    "print(x is z)\n",
    "print([1,2] is [1,2])\n",
    "print([1,2] == [1,2])\n",
    "x = [1,2]\n",
    "z = x\n",
    "print(x is z)\n",
    "from copy import copy\n",
    "z = copy(x)\n",
    "print(x is z)\n",
    "print(x == z)\n",
    "z = x\n",
    "z[1] = 3\n",
    "print(x is z)"
   ]
  },
  {
   "cell_type": "markdown",
   "metadata": {},
   "source": [
    "# Tipi di dato ***user defined***: classi e oggetti"
   ]
  },
  {
   "cell_type": "code",
   "execution_count": null,
   "metadata": {},
   "outputs": [],
   "source": [
    "class counter:\n",
    "    '''Attempt 1.0'''\n",
    "    val = 0\n",
    "    def getval():\n",
    "        '''Return the value of the counter'''\n",
    "        return val\n",
    "    def inc():\n",
    "        '''Increment the counter'''\n",
    "        val += 1\n",
    "        \n",
    "print(counter.val)\n",
    "print(counter.inc.__doc__)"
   ]
  },
  {
   "cell_type": "code",
   "execution_count": null,
   "metadata": {},
   "outputs": [],
   "source": [
    "print(counter.getval())"
   ]
  },
  {
   "cell_type": "code",
   "execution_count": null,
   "metadata": {},
   "outputs": [],
   "source": [
    "class counter:\n",
    "    '''Attempt 1.1'''\n",
    "    val = 0\n",
    "    def getval():\n",
    "        '''Return the value of the counter'''\n",
    "        return counter.val\n",
    "    def inc():\n",
    "        '''Increment the counter'''\n",
    "        counter.val += 1\n",
    "print(counter.getval())\n",
    "counter.inc()\n",
    "print(counter.getval())"
   ]
  },
  {
   "cell_type": "code",
   "execution_count": null,
   "metadata": {},
   "outputs": [],
   "source": [
    "c = counter()"
   ]
  },
  {
   "cell_type": "code",
   "execution_count": null,
   "metadata": {},
   "outputs": [],
   "source": [
    "print(c.val)\n",
    "print(c.getval())"
   ]
  },
  {
   "cell_type": "code",
   "execution_count": null,
   "metadata": {},
   "outputs": [],
   "source": [
    "c.inc()"
   ]
  },
  {
   "cell_type": "code",
   "execution_count": null,
   "metadata": {},
   "outputs": [],
   "source": [
    "class counter:\n",
    "    '''Attempt 1.2'''\n",
    "    val = 0\n",
    "    def getval(self):\n",
    "        '''Return the value of the counter'''\n",
    "        return counter.val\n",
    "    def inc(self):\n",
    "        '''Increment the counter'''\n",
    "        counter.val += 1\n",
    "    def reset(self):\n",
    "        '''Set the counter value back to 0'''\n",
    "        counter.val = 0"
   ]
  },
  {
   "cell_type": "code",
   "execution_count": null,
   "metadata": {},
   "outputs": [],
   "source": [
    "c = counter()\n",
    "print(c.getval())\n",
    "c.inc()\n",
    "print(c.getval())\n",
    "c.reset()\n",
    "print(c.getval())\n",
    "counter.inc(c)\n",
    "print(c.getval())"
   ]
  },
  {
   "cell_type": "code",
   "execution_count": null,
   "metadata": {},
   "outputs": [],
   "source": [
    "c2 = counter()\n",
    "print(c2.getval())"
   ]
  },
  {
   "cell_type": "code",
   "execution_count": null,
   "metadata": {},
   "outputs": [],
   "source": [
    "class counter:\n",
    "    '''Attempt 2.0'''\n",
    "    def __init__(self):\n",
    "        self.val = 0\n",
    "    def getval(self):\n",
    "        '''Return the value of the counter'''\n",
    "        return self.val\n",
    "    def inc(self):\n",
    "        '''Increment the counter'''\n",
    "        self.val += 1\n",
    "    def reset(self):\n",
    "        '''Set the counter value back to 0'''\n",
    "        self.val = 0"
   ]
  },
  {
   "cell_type": "code",
   "execution_count": null,
   "metadata": {},
   "outputs": [],
   "source": [
    "c = counter()\n",
    "c.inc()\n",
    "c.inc()\n",
    "print(c.getval())\n",
    "c2 = counter()\n",
    "print(c2.getval())\n",
    "print(c.getval())"
   ]
  },
  {
   "cell_type": "code",
   "execution_count": null,
   "metadata": {},
   "outputs": [],
   "source": [
    "class Fibonacci:\n",
    "    '''Iterarable that yields (becomes) an iterator for the Fibonacci numbers'''\n",
    "\n",
    "    def __init__(self, last):\n",
    "        self.last = last\n",
    "\n",
    "    def __iter__(self):\n",
    "        self.x = 0\n",
    "        self.nextx = 1\n",
    "        self.n = 1\n",
    "        return self\n",
    "\n",
    "    def __next__(self):\n",
    "        '''Fibonacci-specific cursor method'''\n",
    "        val = self.x\n",
    "        if self.n > self.last:\n",
    "            raise StopIteration\n",
    "        self.x, self.nextx = self.nextx, self.x + self.nextx  # Pythonic\n",
    "        self.n += 1\n",
    "        return val\n",
    "    \n",
    "help(Fibonacci)"
   ]
  },
  {
   "cell_type": "markdown",
   "metadata": {},
   "source": [
    "### Fibonacci è un ***iterabile*** perché implementa i metodi \\__iter\\__ e \\__next\\__"
   ]
  },
  {
   "cell_type": "code",
   "execution_count": null,
   "metadata": {},
   "outputs": [],
   "source": [
    "F=iter(Fibonacci(10))\n",
    "for i in range(10):\n",
    "    print(next(F))"
   ]
  },
  {
   "cell_type": "code",
   "execution_count": null,
   "metadata": {},
   "outputs": [],
   "source": [
    "# Pythonic\n",
    "for n in Fibonacci(10):\n",
    "    print(n)"
   ]
  },
  {
   "cell_type": "markdown",
   "metadata": {},
   "source": [
    "## Information hiding?"
   ]
  },
  {
   "cell_type": "code",
   "execution_count": null,
   "metadata": {},
   "outputs": [],
   "source": [
    "class CC:\n",
    "    \"\"\"\n",
    "    Classe per la gestione di un c/c: v1.0 \"\"\"\n",
    "    \n",
    "    def __init__(self, deposito_iniziale = 0):\n",
    "        print(\"Apertura conto con {} Euro\".format(deposito_iniziale))\n",
    "        self.saldo_disponibile = deposito_iniziale\n",
    "        self.saldo()\n",
    "        \n",
    "    def versamento(self, importo):\n",
    "        self.saldo_disponibile += importo\n",
    "        self.saldo()\n",
    "        \n",
    "    def prelevamento(self, importo):\n",
    "        self.saldo_disponibile -= importo\n",
    "        self.saldo()\n",
    "        \n",
    "    def saldo(self):\n",
    "        print(\"La disponibilità è di {} Euro\".format(self.saldo_disponibile))"
   ]
  },
  {
   "cell_type": "code",
   "execution_count": null,
   "metadata": {},
   "outputs": [],
   "source": [
    "X=CC(100)\n",
    "X.versamento(50)\n",
    "X.prelevamento(80)\n",
    "X.saldo()"
   ]
  },
  {
   "cell_type": "markdown",
   "metadata": {},
   "source": [
    "### In Python gli attributi di un oggetto sono però sempre direttamente accessibili"
   ]
  },
  {
   "cell_type": "code",
   "execution_count": null,
   "metadata": {},
   "outputs": [],
   "source": [
    "X.saldo_disponibile -= 50\n",
    "print(X.saldo_disponibile)\n",
    "X.saldo_disponibile = -1000\n",
    "print(X.saldo_disponibile)"
   ]
  },
  {
   "cell_type": "code",
   "execution_count": null,
   "metadata": {},
   "outputs": [],
   "source": [
    "class CC:\n",
    "    \"\"\"\n",
    "    Classe per la gestione di un c/c: v1.1 \"\"\"\n",
    "\n",
    "    def __init__(self, deposito_iniziale = 0):\n",
    "        print(\"Apertura conto con {} Euro\".format(deposito_iniziale))\n",
    "        self.__saldo_disponibile = deposito_iniziale\n",
    "        self.saldo()\n",
    "        \n",
    "    def versamento(self, importo):\n",
    "        print(\"Versamento di {} Euro\".format(importo))\n",
    "        self.__saldo_disponibile += importo\n",
    "        self.saldo()\n",
    "        \n",
    "    def prelevamento(self, importo):\n",
    "        print(\"Prelevamento di {} Euro\".format(importo))\n",
    "        self.__saldo_disponibile -= importo\n",
    "        self.saldo()\n",
    "        \n",
    "    def saldo(self):\n",
    "        print(\"La disponibilità è di {} Euro\".format(self.__saldo_disponibile))"
   ]
  },
  {
   "cell_type": "markdown",
   "metadata": {},
   "source": [
    "### Attributi come __saldo_disponibile sono detti ***superprivati***"
   ]
  },
  {
   "cell_type": "code",
   "execution_count": null,
   "metadata": {},
   "outputs": [],
   "source": [
    "X=CC(100)\n",
    "print(X.__saldo_disponibile)"
   ]
  },
  {
   "cell_type": "code",
   "execution_count": null,
   "metadata": {},
   "outputs": [],
   "source": [
    "X=CC(100)\n",
    "X.versamento(50)\n",
    "X.prelevamento(50)"
   ]
  },
  {
   "cell_type": "code",
   "execution_count": null,
   "metadata": {},
   "outputs": [],
   "source": [
    "X.__saldo_disponibile = -1000\n",
    "print(X.__saldo_disponibile)\n",
    "X.saldo()"
   ]
  },
  {
   "cell_type": "markdown",
   "metadata": {},
   "source": [
    "### Python usa il lo schema cosiddetto del ***name mangling*** per cambiare il nome di un attributo in modo da evitare riferimenti \"accidentali\""
   ]
  },
  {
   "cell_type": "code",
   "execution_count": null,
   "metadata": {},
   "outputs": [],
   "source": [
    "X._CC__saldo_disponibile = -1000\n",
    "print(X._CC__saldo_disponibile)\n",
    "X.saldo()"
   ]
  },
  {
   "cell_type": "markdown",
   "metadata": {},
   "source": [
    "## Una soluzione ***pythonic***\n",
    "### Obiettivi:\n",
    "1. Inserire controlli sulla saldo e sugli importi versati...\n",
    "2. ... ma evitare di dover ricompilare codice client che faccia accesso diretto agli attributi"
   ]
  },
  {
   "cell_type": "code",
   "execution_count": null,
   "metadata": {},
   "outputs": [],
   "source": [
    "class CC:\n",
    "    \"\"\"\n",
    "    Classe per la gestione di un c/c: v2.0 \"\"\"\n",
    "    \n",
    "    def __init__(self, deposito_iniziale = 0):\n",
    "        print(\"Apertura conto con {} Euro\".format(deposito_iniziale))\n",
    "        self.saldo_disponibile = deposito_iniziale\n",
    "        \n",
    "    def valorediretto(self,importo):\n",
    "        if (importo<0):\n",
    "            raise ValueError(\"Non si può assegnare al saldo un valore negativo\")\n",
    "        self.__saldo_disponibile = importo\n",
    "        self.saldo()\n",
    "        \n",
    "    def versamento(self, importo):\n",
    "        if (importo<0):\n",
    "            raise ValueError(\"Non si può versare una somma negativa\")\n",
    "        elif importo>0:\n",
    "            print(\"Versamento di {} Euro\".format(importo))\n",
    "            self.__saldo_disponibile += importo\n",
    "        self.saldo()\n",
    "        \n",
    "    def prelevamento(self, importo=0):\n",
    "        if importo<0:\n",
    "            raise ValueError(\"Non si può prelevare una somma negativa\")\n",
    "        elif importo>0 and self.__saldo_disponibile-importo<0:\n",
    "            raise ValueError(\"Operazione bloccata: il conto andrebbe in rosso\")\n",
    "        elif importo>0:\n",
    "            print(\"Prelevamento di {} Euro\".format(importo))\n",
    "            self.__saldo_disponibile -= importo\n",
    "        self.saldo()\n",
    "                \n",
    "    def saldo(self):\n",
    "        print(\"La disponibilità è di {} Euro\".format(self.__saldo_disponibile))\n",
    "    \n",
    "    saldo_disponibile=property(prelevamento,valorediretto) # Pythonic"
   ]
  },
  {
   "cell_type": "code",
   "execution_count": null,
   "metadata": {},
   "outputs": [],
   "source": [
    "X=CC(100)\n",
    "X.versamento(200)\n",
    "X.prelevamento(120)\n",
    "X.saldo()\n",
    "X.saldo_disponibile = 50\n",
    "X.saldo()\n",
    "X.saldo_disponibile = -50"
   ]
  }
 ],
 "metadata": {
  "kernelspec": {
   "display_name": "Python 3",
   "language": "python",
   "name": "python3"
  },
  "language_info": {
   "codemirror_mode": {
    "name": "ipython",
    "version": 3
   },
   "file_extension": ".py",
   "mimetype": "text/x-python",
   "name": "python",
   "nbconvert_exporter": "python",
   "pygments_lexer": "ipython3",
   "version": "3.6.6"
  }
 },
 "nbformat": 4,
 "nbformat_minor": 2
}
